{
 "cells": [
  {
   "cell_type": "code",
   "execution_count": 47,
   "id": "3118f14c-1dd6-4c36-96d5-9477ceb472dd",
   "metadata": {},
   "outputs": [
    {
     "data": {
      "text/html": [
       "<div>\n",
       "<style scoped>\n",
       "    .dataframe tbody tr th:only-of-type {\n",
       "        vertical-align: middle;\n",
       "    }\n",
       "\n",
       "    .dataframe tbody tr th {\n",
       "        vertical-align: top;\n",
       "    }\n",
       "\n",
       "    .dataframe thead th {\n",
       "        text-align: right;\n",
       "    }\n",
       "</style>\n",
       "<table border=\"1\" class=\"dataframe\">\n",
       "  <thead>\n",
       "    <tr style=\"text-align: right;\">\n",
       "      <th></th>\n",
       "      <th>Title</th>\n",
       "      <th>Year</th>\n",
       "      <th>Runtime (Minutes)</th>\n",
       "      <th>Rating</th>\n",
       "      <th>Votes</th>\n",
       "      <th>Revenue (Millions)</th>\n",
       "    </tr>\n",
       "  </thead>\n",
       "  <tbody>\n",
       "    <tr>\n",
       "      <th>0</th>\n",
       "      <td>Guardians of the Galaxy</td>\n",
       "      <td>2014</td>\n",
       "      <td>121</td>\n",
       "      <td>8.1</td>\n",
       "      <td>757074</td>\n",
       "      <td>333.13</td>\n",
       "    </tr>\n",
       "    <tr>\n",
       "      <th>1</th>\n",
       "      <td>Prometheus</td>\n",
       "      <td>2012</td>\n",
       "      <td>124</td>\n",
       "      <td>7.0</td>\n",
       "      <td>485820</td>\n",
       "      <td>126.46</td>\n",
       "    </tr>\n",
       "    <tr>\n",
       "      <th>2</th>\n",
       "      <td>Split</td>\n",
       "      <td>2016</td>\n",
       "      <td>117</td>\n",
       "      <td>7.3</td>\n",
       "      <td>157606</td>\n",
       "      <td>138.12</td>\n",
       "    </tr>\n",
       "    <tr>\n",
       "      <th>3</th>\n",
       "      <td>Sing</td>\n",
       "      <td>2016</td>\n",
       "      <td>108</td>\n",
       "      <td>7.2</td>\n",
       "      <td>60545</td>\n",
       "      <td>270.32</td>\n",
       "    </tr>\n",
       "    <tr>\n",
       "      <th>4</th>\n",
       "      <td>Suicide Squad</td>\n",
       "      <td>2016</td>\n",
       "      <td>123</td>\n",
       "      <td>6.2</td>\n",
       "      <td>393727</td>\n",
       "      <td>325.02</td>\n",
       "    </tr>\n",
       "    <tr>\n",
       "      <th>...</th>\n",
       "      <td>...</td>\n",
       "      <td>...</td>\n",
       "      <td>...</td>\n",
       "      <td>...</td>\n",
       "      <td>...</td>\n",
       "      <td>...</td>\n",
       "    </tr>\n",
       "    <tr>\n",
       "      <th>995</th>\n",
       "      <td>Secret in Their Eyes</td>\n",
       "      <td>2015</td>\n",
       "      <td>111</td>\n",
       "      <td>6.2</td>\n",
       "      <td>27585</td>\n",
       "      <td>NaN</td>\n",
       "    </tr>\n",
       "    <tr>\n",
       "      <th>996</th>\n",
       "      <td>Hostel: Part II</td>\n",
       "      <td>2007</td>\n",
       "      <td>94</td>\n",
       "      <td>5.5</td>\n",
       "      <td>73152</td>\n",
       "      <td>17.54</td>\n",
       "    </tr>\n",
       "    <tr>\n",
       "      <th>997</th>\n",
       "      <td>Step Up 2: The Streets</td>\n",
       "      <td>2008</td>\n",
       "      <td>98</td>\n",
       "      <td>6.2</td>\n",
       "      <td>70699</td>\n",
       "      <td>58.01</td>\n",
       "    </tr>\n",
       "    <tr>\n",
       "      <th>998</th>\n",
       "      <td>Search Party</td>\n",
       "      <td>2014</td>\n",
       "      <td>93</td>\n",
       "      <td>5.6</td>\n",
       "      <td>4881</td>\n",
       "      <td>NaN</td>\n",
       "    </tr>\n",
       "    <tr>\n",
       "      <th>999</th>\n",
       "      <td>Nine Lives</td>\n",
       "      <td>2016</td>\n",
       "      <td>87</td>\n",
       "      <td>5.3</td>\n",
       "      <td>12435</td>\n",
       "      <td>19.64</td>\n",
       "    </tr>\n",
       "  </tbody>\n",
       "</table>\n",
       "<p>1000 rows × 6 columns</p>\n",
       "</div>"
      ],
      "text/plain": [
       "                       Title  Year  Runtime (Minutes)  Rating   Votes  \\\n",
       "0    Guardians of the Galaxy  2014                121     8.1  757074   \n",
       "1                 Prometheus  2012                124     7.0  485820   \n",
       "2                      Split  2016                117     7.3  157606   \n",
       "3                       Sing  2016                108     7.2   60545   \n",
       "4              Suicide Squad  2016                123     6.2  393727   \n",
       "..                       ...   ...                ...     ...     ...   \n",
       "995     Secret in Their Eyes  2015                111     6.2   27585   \n",
       "996          Hostel: Part II  2007                 94     5.5   73152   \n",
       "997   Step Up 2: The Streets  2008                 98     6.2   70699   \n",
       "998             Search Party  2014                 93     5.6    4881   \n",
       "999               Nine Lives  2016                 87     5.3   12435   \n",
       "\n",
       "     Revenue (Millions)  \n",
       "0                333.13  \n",
       "1                126.46  \n",
       "2                138.12  \n",
       "3                270.32  \n",
       "4                325.02  \n",
       "..                  ...  \n",
       "995                 NaN  \n",
       "996               17.54  \n",
       "997               58.01  \n",
       "998                 NaN  \n",
       "999               19.64  \n",
       "\n",
       "[1000 rows x 6 columns]"
      ]
     },
     "execution_count": 47,
     "metadata": {},
     "output_type": "execute_result"
    }
   ],
   "source": [
    "import pandas as pd\n",
    "import numpy as np\n",
    "import matplotlib.pyplot as plt\n",
    "\n",
    "# Cargar el dataset y seleccionar columnas relevantes\n",
    "df = pd.read_csv(\"IMDB-Movie-Data.csv\")\n",
    "selected_columns = ['Title', 'Year', 'Runtime (Minutes)', 'Rating', 'Votes', 'Revenue (Millions)']\n",
    "df_selected = df[selected_columns]\n",
    "df_selected"
   ]
  },
  {
   "cell_type": "code",
   "execution_count": 48,
   "id": "d24b79aa-be3e-4e0f-8e5e-f4fe9d546a4b",
   "metadata": {},
   "outputs": [
    {
     "data": {
      "text/plain": [
       "array([['Guardians of the Galaxy', 2014, 121, 8.1, 757074, 333.13],\n",
       "       ['Prometheus', 2012, 124, 7.0, 485820, 126.46],\n",
       "       ['Split', 2016, 117, 7.3, 157606, 138.12],\n",
       "       ...,\n",
       "       ['Step Up 2: The Streets', 2008, 98, 6.2, 70699, 58.01],\n",
       "       ['Search Party', 2014, 93, 5.6, 4881, nan],\n",
       "       ['Nine Lives', 2016, 87, 5.3, 12435, 19.64]], dtype=object)"
      ]
     },
     "execution_count": 48,
     "metadata": {},
     "output_type": "execute_result"
    }
   ],
   "source": [
    "# Convertir las columnas seleccionadas a un array de Numpy\n",
    "array_data = df_selected.to_numpy()\n",
    "array_data"
   ]
  },
  {
   "cell_type": "code",
   "execution_count": 49,
   "id": "1118f0d9-4117-43e2-ba95-6a16acb7765e",
   "metadata": {},
   "outputs": [
    {
     "name": "stdout",
     "output_type": "stream",
     "text": [
      "Nulls en el DataFrame:\n",
      "Title                   0\n",
      "Year                    0\n",
      "Runtime (Minutes)       0\n",
      "Rating                  0\n",
      "Votes                   0\n",
      "Revenue (Millions)    128\n",
      "dtype: int64\n",
      "Title                   0\n",
      "Year                    0\n",
      "Runtime (Minutes)       0\n",
      "Rating                  0\n",
      "Votes                   0\n",
      "Revenue (Millions)    128\n",
      "dtype: int64\n"
     ]
    },
    {
     "name": "stderr",
     "output_type": "stream",
     "text": [
      "C:\\Users\\Admin\\AppData\\Local\\Temp\\ipykernel_6764\\1958249789.py:4: FutureWarning: The default value of numeric_only in DataFrame.mean is deprecated. In a future version, it will default to False. In addition, specifying 'numeric_only=None' is deprecated. Select only valid columns or specify the value of numeric_only to silence this warning.\n",
      "  df.fillna(df_selected.mean(), inplace=True)\n"
     ]
    }
   ],
   "source": [
    "# Manejar valores faltantes en 'Revenue (Millions)' con la media de la columna\n",
    "print(\"Nulls en el DataFrame:\")\n",
    "print(df_selected.isnull().sum())\n",
    "df.fillna(df_selected.mean(), inplace=True)\n",
    "print(df_selected.isnull().sum())"
   ]
  },
  {
   "cell_type": "code",
   "execution_count": 50,
   "id": "e5245f3b-b5c9-4c06-aae2-884c48b80c6c",
   "metadata": {},
   "outputs": [
    {
     "data": {
      "text/plain": [
       "6.723199999999999"
      ]
     },
     "execution_count": 50,
     "metadata": {},
     "output_type": "execute_result"
    }
   ],
   "source": [
    "calificacion_promedio = np.mean(df_selected['Rating'])\n",
    "calificacion_promedio"
   ]
  },
  {
   "cell_type": "code",
   "execution_count": 51,
   "id": "84a6ed3a-4a6b-4290-b08c-c8328a26b9fd",
   "metadata": {},
   "outputs": [
    {
     "data": {
      "text/plain": [
       "Title                 Grindhouse\n",
       "Year                        2007\n",
       "Runtime (Minutes)            191\n",
       "Rating                       7.6\n",
       "Votes                     160350\n",
       "Revenue (Millions)         25.03\n",
       "Name: 828, dtype: object"
      ]
     },
     "execution_count": 51,
     "metadata": {},
     "output_type": "execute_result"
    }
   ],
   "source": [
    "pelicula_mas_larga = df_selected.loc[df_selected['Runtime (Minutes)'].idxmax()]\n",
    "pelicula_mas_larga"
   ]
  },
  {
   "cell_type": "code",
   "execution_count": 52,
   "id": "3fb32a8f-f19a-4bbf-8240-9d04325b4667",
   "metadata": {},
   "outputs": [
    {
     "data": {
      "text/plain": [
       "82.95637614678898"
      ]
     },
     "execution_count": 52,
     "metadata": {},
     "output_type": "execute_result"
    }
   ],
   "source": [
    "ingreso_promedio = np.mean(df_selected['Revenue (Millions)'])\n",
    "ingreso_promedio"
   ]
  },
  {
   "cell_type": "code",
   "execution_count": 53,
   "id": "79eace55-a40a-4d23-a4f5-30d7dfaad090",
   "metadata": {},
   "outputs": [
    {
     "data": {
      "text/plain": [
       "nan"
      ]
     },
     "execution_count": 53,
     "metadata": {},
     "output_type": "execute_result"
    }
   ],
   "source": [
    "mediana_ingresos = np.median(df_selected['Revenue (Millions)'].astype(float))\n",
    "mediana_ingresos"
   ]
  },
  {
   "cell_type": "code",
   "execution_count": 54,
   "id": "23586064-2cc1-4911-abc8-99cbf3c5ffce",
   "metadata": {},
   "outputs": [
    {
     "data": {
      "text/html": [
       "<div>\n",
       "<style scoped>\n",
       "    .dataframe tbody tr th:only-of-type {\n",
       "        vertical-align: middle;\n",
       "    }\n",
       "\n",
       "    .dataframe tbody tr th {\n",
       "        vertical-align: top;\n",
       "    }\n",
       "\n",
       "    .dataframe thead th {\n",
       "        text-align: right;\n",
       "    }\n",
       "</style>\n",
       "<table border=\"1\" class=\"dataframe\">\n",
       "  <thead>\n",
       "    <tr style=\"text-align: right;\">\n",
       "      <th></th>\n",
       "      <th>Title</th>\n",
       "      <th>Year</th>\n",
       "      <th>Runtime (Minutes)</th>\n",
       "      <th>Rating</th>\n",
       "      <th>Votes</th>\n",
       "      <th>Revenue (Millions)</th>\n",
       "    </tr>\n",
       "  </thead>\n",
       "  <tbody>\n",
       "    <tr>\n",
       "      <th>0</th>\n",
       "      <td>Guardians of the Galaxy</td>\n",
       "      <td>2014</td>\n",
       "      <td>121</td>\n",
       "      <td>8.1</td>\n",
       "      <td>757074</td>\n",
       "      <td>333.13</td>\n",
       "    </tr>\n",
       "    <tr>\n",
       "      <th>2</th>\n",
       "      <td>Split</td>\n",
       "      <td>2016</td>\n",
       "      <td>117</td>\n",
       "      <td>7.3</td>\n",
       "      <td>157606</td>\n",
       "      <td>138.12</td>\n",
       "    </tr>\n",
       "    <tr>\n",
       "      <th>3</th>\n",
       "      <td>Sing</td>\n",
       "      <td>2016</td>\n",
       "      <td>108</td>\n",
       "      <td>7.2</td>\n",
       "      <td>60545</td>\n",
       "      <td>270.32</td>\n",
       "    </tr>\n",
       "    <tr>\n",
       "      <th>4</th>\n",
       "      <td>Suicide Squad</td>\n",
       "      <td>2016</td>\n",
       "      <td>123</td>\n",
       "      <td>6.2</td>\n",
       "      <td>393727</td>\n",
       "      <td>325.02</td>\n",
       "    </tr>\n",
       "    <tr>\n",
       "      <th>5</th>\n",
       "      <td>The Great Wall</td>\n",
       "      <td>2016</td>\n",
       "      <td>103</td>\n",
       "      <td>6.1</td>\n",
       "      <td>56036</td>\n",
       "      <td>45.13</td>\n",
       "    </tr>\n",
       "    <tr>\n",
       "      <th>...</th>\n",
       "      <td>...</td>\n",
       "      <td>...</td>\n",
       "      <td>...</td>\n",
       "      <td>...</td>\n",
       "      <td>...</td>\n",
       "      <td>...</td>\n",
       "    </tr>\n",
       "    <tr>\n",
       "      <th>987</th>\n",
       "      <td>Endless Love</td>\n",
       "      <td>2014</td>\n",
       "      <td>104</td>\n",
       "      <td>6.3</td>\n",
       "      <td>33688</td>\n",
       "      <td>23.39</td>\n",
       "    </tr>\n",
       "    <tr>\n",
       "      <th>989</th>\n",
       "      <td>Selma</td>\n",
       "      <td>2014</td>\n",
       "      <td>128</td>\n",
       "      <td>7.5</td>\n",
       "      <td>67637</td>\n",
       "      <td>52.07</td>\n",
       "    </tr>\n",
       "    <tr>\n",
       "      <th>995</th>\n",
       "      <td>Secret in Their Eyes</td>\n",
       "      <td>2015</td>\n",
       "      <td>111</td>\n",
       "      <td>6.2</td>\n",
       "      <td>27585</td>\n",
       "      <td>NaN</td>\n",
       "    </tr>\n",
       "    <tr>\n",
       "      <th>998</th>\n",
       "      <td>Search Party</td>\n",
       "      <td>2014</td>\n",
       "      <td>93</td>\n",
       "      <td>5.6</td>\n",
       "      <td>4881</td>\n",
       "      <td>NaN</td>\n",
       "    </tr>\n",
       "    <tr>\n",
       "      <th>999</th>\n",
       "      <td>Nine Lives</td>\n",
       "      <td>2016</td>\n",
       "      <td>87</td>\n",
       "      <td>5.3</td>\n",
       "      <td>12435</td>\n",
       "      <td>19.64</td>\n",
       "    </tr>\n",
       "  </tbody>\n",
       "</table>\n",
       "<p>522 rows × 6 columns</p>\n",
       "</div>"
      ],
      "text/plain": [
       "                       Title  Year  Runtime (Minutes)  Rating   Votes  \\\n",
       "0    Guardians of the Galaxy  2014                121     8.1  757074   \n",
       "2                      Split  2016                117     7.3  157606   \n",
       "3                       Sing  2016                108     7.2   60545   \n",
       "4              Suicide Squad  2016                123     6.2  393727   \n",
       "5             The Great Wall  2016                103     6.1   56036   \n",
       "..                       ...   ...                ...     ...     ...   \n",
       "987             Endless Love  2014                104     6.3   33688   \n",
       "989                    Selma  2014                128     7.5   67637   \n",
       "995     Secret in Their Eyes  2015                111     6.2   27585   \n",
       "998             Search Party  2014                 93     5.6    4881   \n",
       "999               Nine Lives  2016                 87     5.3   12435   \n",
       "\n",
       "     Revenue (Millions)  \n",
       "0                333.13  \n",
       "2                138.12  \n",
       "3                270.32  \n",
       "4                325.02  \n",
       "5                 45.13  \n",
       "..                  ...  \n",
       "987               23.39  \n",
       "989               52.07  \n",
       "995                 NaN  \n",
       "998                 NaN  \n",
       "999               19.64  \n",
       "\n",
       "[522 rows x 6 columns]"
      ]
     },
     "execution_count": 54,
     "metadata": {},
     "output_type": "execute_result"
    }
   ],
   "source": [
    "peliculas_recientes = df_selected[df_selected['Year'] >= 2024 - 10]\n",
    "peliculas_recientes"
   ]
  },
  {
   "cell_type": "code",
   "execution_count": 55,
   "id": "1516c96a-0bb6-446c-8be8-552bf0deb4fb",
   "metadata": {},
   "outputs": [
    {
     "data": {
      "text/plain": [
       "94088.39655172414"
      ]
     },
     "execution_count": 55,
     "metadata": {},
     "output_type": "execute_result"
    }
   ],
   "source": [
    "promedio_votos = np.mean(peliculas_recientes['Votes'])\n",
    "promedio_votos"
   ]
  },
  {
   "cell_type": "code",
   "execution_count": 56,
   "id": "a2a5e217-f70e-4e65-9336-9e64ce1c91c6",
   "metadata": {},
   "outputs": [
    {
     "data": {
      "image/png": "[encoded data removed]",
      "text/plain": [
       "<Figure size 640x480 with 1 Axes>"
      ]
     },
     "metadata": {},
     "output_type": "display_data"
    }
   ],
   "source": [
    "plt.scatter(df_selected['Rating'].astype(float), df_selected['Revenue (Millions)'].astype(float))\n",
    "plt.title('Calificacion de IMDb vs Ingresos')\n",
    "plt.xlabel('Calificacion')\n",
    "plt.ylabel('Ingresos')\n",
    "plt.show()"
   ]
  },
  {
   "cell_type": "code",
   "execution_count": null,
   "id": "0dd381f5-e835-4efd-9667-8e62b1e2c9e7",
   "metadata": {},
   "outputs": [],
   "source": []
  }
 ],
 "metadata": {
  "kernelspec": {
   "display_name": "Python 3 (ipykernel)",
   "language": "python",
   "name": "python3"
  },
  "language_info": {
   "codemirror_mode": {
    "name": "ipython",
    "version": 3
   },
   "file_extension": ".py",
   "mimetype": "text/x-python",
   "name": "python",
   "nbconvert_exporter": "python",
   "pygments_lexer": "ipython3",
   "version": "3.10.6"
  }
 },
 "nbformat": 4,
 "nbformat_minor": 5
}
